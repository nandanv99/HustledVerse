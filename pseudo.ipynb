{
 "cells": [
  {
   "cell_type": "code",
   "execution_count": 2,
   "metadata": {},
   "outputs": [],
   "source": [
    "import pandas as pd \n",
    "import numpy as np"
   ]
  },
  {
   "cell_type": "code",
   "execution_count": 3,
   "metadata": {},
   "outputs": [],
   "source": [
    "file1=\"/Users/anilvyas/Desktop/50_Startups.csv\"\n",
    "file2=\"/Users/anilvyas/Desktop/Django_NV/extra_s/data_parak.csv\"\n",
    "data=pd.read_csv(file2)"
   ]
  },
  {
   "cell_type": "code",
   "execution_count": 20,
   "metadata": {},
   "outputs": [
    {
     "data": {
      "text/plain": [
       "['+61400277460',\n",
       " '89610300001625324715',\n",
       " 'LBR',\n",
       " '40033774585',\n",
       " '40033774585',\n",
       " '20181130',\n",
       " '121103',\n",
       " '1',\n",
       " '',\n",
       " '',\n",
       " '',\n",
       " 'Katrina',\n",
       " 'Mahony',\n",
       " '',\n",
       " 'NA',\n",
       " '19600606',\n",
       " '',\n",
       " '',\n",
       " 'MS          ',\n",
       " '',\n",
       " '',\n",
       " '',\n",
       " '',\n",
       " '',\n",
       " '',\n",
       " '6                   ',\n",
       " '',\n",
       " '',\n",
       " '',\n",
       " '',\n",
       " '8           ',\n",
       " '',\n",
       " 'Saint Helena',\n",
       " 'PDE     ',\n",
       " 'EASTLAKES',\n",
       " 'NSW',\n",
       " '2018',\n",
       " '',\n",
       " '',\n",
       " '+61414108194',\n",
       " 'katrina']"
      ]
     },
     "execution_count": 20,
     "metadata": {},
     "output_type": "execute_result"
    }
   ],
   "source": [
    "data.dropna(inplace = True)\n",
    "lst=data.iloc[0,0].split('|')\n",
    "lst"
   ]
  },
  {
   "cell_type": "code",
   "execution_count": 22,
   "metadata": {},
   "outputs": [
    {
     "data": {
      "text/plain": [
       "MSISDN|SIM_SERIAL|MVNO_ID|CUSTOMER_NO|ACCOUNT_NO|CONNECTION_DATE|CONNECTION_TIME|PORT_IN|DISCONNECTION_DATE|DISCONNECTION_TIME|PORT_OUT|FIRST_NAME|LAST_NAME|SECOND_NAME|GENDER|DOB|SALUTATION|MARITAL_STATUS|TITLE|EMPLOYER_NAME|OCCUPATION|OTHER_ADULT_NAME|RELATIVE_NAME|BUILDING_NAME2|BUILDING_NAME|UNIT|BUILDING_LEVEL|SUB_BUILDING_NUMBER|OTHER_POSTAL_TYPES_TYPE|OTHER_POSTAL_TYPES_NUMBER|STREET_NO|ALLOTMENT|STREET_NAME|STREET_TYPE|LOCALITY|STATE_CODE|POST_CODE|DPID|ADDRESS_MODULE_TYPE|EXISTING_MOBILE_NUMBER|EMAIL_ADDRESS|SIM_TYPE|SIM_VERSION|UNUSED1|UNUSED2|UNUSED3|UNUSED4    +61400277460|89610300001625324715|LBR|40033774...\n",
       "Unnamed: 1                                                                                                                                                                                                                                                                                                                                                                                                                                                                                                                                                                                           mahony@justice.nsw.gov.au|PHYSICAL|ORIGINAL||||\n",
       "Name: 442, dtype: object"
      ]
     },
     "execution_count": 22,
     "metadata": {},
     "output_type": "execute_result"
    }
   ],
   "source": [
    "data.iloc[0]"
   ]
  },
  {
   "cell_type": "code",
   "execution_count": null,
   "metadata": {},
   "outputs": [],
   "source": []
  }
 ],
 "metadata": {
  "interpreter": {
   "hash": "39a341490a987dbb8ae437d4c5e3311132ae6ea9f74287c5b177bec428eedbbd"
  },
  "kernelspec": {
   "display_name": "Python 3.7.4 ('base')",
   "language": "python",
   "name": "python3"
  },
  "language_info": {
   "codemirror_mode": {
    "name": "ipython",
    "version": 3
   },
   "file_extension": ".py",
   "mimetype": "text/x-python",
   "name": "python",
   "nbconvert_exporter": "python",
   "pygments_lexer": "ipython3",
   "version": "3.7.4"
  },
  "orig_nbformat": 4
 },
 "nbformat": 4,
 "nbformat_minor": 2
}
